{
 "cells": [
  {
   "cell_type": "code",
   "execution_count": 6,
   "id": "6bd62a7d-66cc-4d70-9605-592bbef2bded",
   "metadata": {},
   "outputs": [
    {
     "name": "stdout",
     "output_type": "stream",
     "text": [
      "Folder dataset TXT\n",
      "Số ảnh (.jpg): 1359\n",
      "Số nhãn (.txt): 1360\n",
      "\n",
      "Folder dataset XML\n",
      "Số ảnh (.png): 300\n",
      "Số nhãn (.xml): 1097\n",
      "\n"
     ]
    }
   ],
   "source": [
    "import os\n",
    "import pandas as pd\n",
    "\n",
    "base_path = r\"E:\\drone\\datasets\"\n",
    "\n",
    "txt_path = os.path.join(base_path, \"dataset_txt\")\n",
    "xml_path = os.path.join(base_path, \"dataset_xml_format\")\n",
    "\n",
    "print(\"Folder dataset TXT\")\n",
    "print(f\"Số ảnh (.jpg): {len(jpg_files)}\")\n",
    "print(f\"Số nhãn (.txt): {len(txt_files)}\\n\")\n",
    "\n",
    "print(\"Folder dataset XML\")\n",
    "print(f\"Số ảnh (.png): {len(png_files)}\")\n",
    "print(f\"Số nhãn (.xml): {len(xml_files)}\\n\")"
   ]
  },
  {
   "cell_type": "code",
   "execution_count": 7,
   "id": "dd39f917-811d-4db3-8b0c-67105d52c81f",
   "metadata": {},
   "outputs": [
    {
     "name": "stdout",
     "output_type": "stream",
     "text": [
      "📑 Nội dung file YOLO: 0001.txt\n",
      "   class_id  x_center  y_center  width  height\n",
      "0         0     0.525     0.349  0.774   0.522\n",
      "1         0     0.880     0.469  0.164   0.168\n",
      "2         0     0.722     0.807  0.117   0.140\n",
      "3         0     0.327     0.825  0.374   0.330\n",
      "4         0     0.112     0.557  0.159   0.190\n"
     ]
    }
   ],
   "source": [
    "import pandas as pd\n",
    "\n",
    "sample_txt = os.path.join(txt_path, txt_files[0])\n",
    "with open(sample_txt, \"r\") as f:\n",
    "    lines = f.readlines()\n",
    "\n",
    "yolo_data = []\n",
    "for line in lines:\n",
    "    class_id, x_c, y_c, w, h = map(float, line.strip().split())\n",
    "    yolo_data.append([int(class_id), x_c, y_c, w, h])\n",
    "\n",
    "df_yolo = pd.DataFrame(yolo_data, columns=[\"class_id\", \"x_center\", \"y_center\", \"width\", \"height\"])\n",
    "print(\"Nội dung file YOLO:\", txt_files[0])\n",
    "print(df_yolo.head())\n"
   ]
  },
  {
   "cell_type": "code",
   "execution_count": null,
   "id": "39052de7-c403-429d-a9b3-8cb4fbce9ccf",
   "metadata": {},
   "outputs": [],
   "source": []
  }
 ],
 "metadata": {
  "kernelspec": {
   "display_name": "Python 3 (ipykernel)",
   "language": "python",
   "name": "python3"
  },
  "language_info": {
   "codemirror_mode": {
    "name": "ipython",
    "version": 3
   },
   "file_extension": ".py",
   "mimetype": "text/x-python",
   "name": "python",
   "nbconvert_exporter": "python",
   "pygments_lexer": "ipython3",
   "version": "3.10.18"
  }
 },
 "nbformat": 4,
 "nbformat_minor": 5
}
